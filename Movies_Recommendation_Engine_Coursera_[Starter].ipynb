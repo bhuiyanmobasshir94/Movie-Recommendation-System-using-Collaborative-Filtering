{
 "cells": [
  {
   "cell_type": "markdown",
   "metadata": {
    "colab_type": "text",
    "id": "u_0oQaUOA9CI"
   },
   "source": [
    "# Task 1: Introduction\n",
    "\n",
    "![Movies Collage](https://i.imgur.com/T7V0VZ6.png)\n",
    "\n",
    "For this project we are going to create a recommendation engine for movies for users based on there past behaviour.\n",
    "\n",
    "---\n",
    "\n",
    "We will focus on the **collaborative filtering** approach, that is: \n",
    "\n",
    "The user is recommended items that people with similar tastes and preferences liked in the past. In another word, this method predicts unknown ratings by using the similarities between users.\n",
    "\n",
    "---\n",
    "\n",
    "Note: This notebook uses `python 3` and these packages: `pandas`, `numpy`, `matplotlib` and `scikit-surprise`\n",
    "\n",
    "We can install them using:\n",
    "```Shell\n",
    "pip3 install pandas matplotlib numpy scikit-surprise\n",
    "```"
   ]
  },
  {
   "cell_type": "markdown",
   "metadata": {
    "colab_type": "text",
    "id": "eMZcgcQsm-9y"
   },
   "source": [
    "## 1.1: Installing Libraries"
   ]
  },
  {
   "cell_type": "code",
   "execution_count": 1,
   "metadata": {
    "colab": {},
    "colab_type": "code",
    "id": "HNmYMKhCnITm"
   },
   "outputs": [
    {
     "name": "stdout",
     "output_type": "stream",
     "text": [
      ">> Installing Libraries\n",
      "Defaulting to user installation because normal site-packages is not writeable\n",
      "Requirement already satisfied: pandas in /home/rhyme/.local/lib/python3.6/site-packages (1.1.0)\n",
      "Requirement already satisfied: matplotlib in /home/rhyme/.local/lib/python3.6/site-packages (3.3.0)\n",
      "Requirement already satisfied: numpy in /home/rhyme/.local/lib/python3.6/site-packages (1.19.1)\n",
      "Requirement already satisfied: scikit-surprise in /home/rhyme/.local/lib/python3.6/site-packages (1.1.1)\n",
      "Requirement already satisfied: python-dateutil>=2.7.3 in /home/rhyme/.local/lib/python3.6/site-packages (from pandas) (2.8.1)\n",
      "Requirement already satisfied: pytz>=2017.2 in /home/rhyme/.local/lib/python3.6/site-packages (from pandas) (2020.1)\n",
      "Requirement already satisfied: kiwisolver>=1.0.1 in /home/rhyme/.local/lib/python3.6/site-packages (from matplotlib) (1.2.0)\n",
      "Requirement already satisfied: pyparsing!=2.0.4,!=2.1.2,!=2.1.6,>=2.0.3 in /home/rhyme/.local/lib/python3.6/site-packages (from matplotlib) (2.4.7)\n",
      "Requirement already satisfied: cycler>=0.10 in /home/rhyme/.local/lib/python3.6/site-packages (from matplotlib) (0.10.0)\n",
      "Requirement already satisfied: pillow>=6.2.0 in /home/rhyme/.local/lib/python3.6/site-packages (from matplotlib) (7.2.0)\n",
      "Requirement already satisfied: joblib>=0.11 in /home/rhyme/.local/lib/python3.6/site-packages (from scikit-surprise) (0.16.0)\n",
      "Requirement already satisfied: scipy>=1.0.0 in /home/rhyme/.local/lib/python3.6/site-packages (from scikit-surprise) (1.5.2)\n",
      "Requirement already satisfied: six>=1.10.0 in /usr/lib/python3/dist-packages (from scikit-surprise) (1.11.0)\n",
      "\u001b[33mWARNING: You are using pip version 20.2.1; however, version 20.2.2 is available.\n",
      "You should consider upgrading via the '/usr/bin/python3 -m pip install --upgrade pip' command.\u001b[0m\n",
      ">> Libraries Installed\n"
     ]
    }
   ],
   "source": [
    "print('>> Installing Libraries')\n",
    "\n",
    "!pip3 install pandas matplotlib numpy scikit-surprise\n",
    "\n",
    "print('>> Libraries Installed')"
   ]
  },
  {
   "cell_type": "markdown",
   "metadata": {
    "colab_type": "text",
    "id": "FYwbN6KqJjPo"
   },
   "source": [
    "## 1.2: Importing Libraries\n",
    "\n",
    "First of all, we will need to import some libraries. This includes surprise which we will use to create the recommendation system."
   ]
  },
  {
   "cell_type": "code",
   "execution_count": 2,
   "metadata": {
    "colab": {},
    "colab_type": "code",
    "id": "5OGYBAjxAzLC"
   },
   "outputs": [
    {
     "name": "stdout",
     "output_type": "stream",
     "text": [
      ">> Importing Libraries\n",
      ">> Libraries imported.\n"
     ]
    }
   ],
   "source": [
    "print('>> Importing Libraries')\n",
    "\n",
    "import pandas as pd\n",
    "\n",
    "from surprise import Reader, Dataset, SVD\n",
    "\n",
    "from surprise.accuracy import rmse, mae\n",
    "from surprise.model_selection import cross_validate\n",
    "\n",
    "print('>> Libraries imported.')"
   ]
  },
  {
   "cell_type": "markdown",
   "metadata": {
    "colab_type": "text",
    "id": "Zg9d8GR6A_rr"
   },
   "source": [
    "# Task 2: Importing Data\n",
    "\n",
    "We will use open-source dataset from GroupLens Research ([movielens.org](http://movielens.org))"
   ]
  },
  {
   "cell_type": "markdown",
   "metadata": {
    "colab_type": "text",
    "id": "vS0k5tdWKSfZ"
   },
   "source": [
    "## 2.1: Importing the Data\n",
    "\n",
    "The dataset is saved in a `ratings.csv` file. We will use pandas to take a look at some of the rows."
   ]
  },
  {
   "cell_type": "code",
   "execution_count": 3,
   "metadata": {
    "colab": {},
    "colab_type": "code",
    "id": "3lbOmdPwKsPm"
   },
   "outputs": [
    {
     "data": {
      "text/html": [
       "<div>\n",
       "<style scoped>\n",
       "    .dataframe tbody tr th:only-of-type {\n",
       "        vertical-align: middle;\n",
       "    }\n",
       "\n",
       "    .dataframe tbody tr th {\n",
       "        vertical-align: top;\n",
       "    }\n",
       "\n",
       "    .dataframe thead th {\n",
       "        text-align: right;\n",
       "    }\n",
       "</style>\n",
       "<table border=\"1\" class=\"dataframe\">\n",
       "  <thead>\n",
       "    <tr style=\"text-align: right;\">\n",
       "      <th></th>\n",
       "      <th>userId</th>\n",
       "      <th>movieId</th>\n",
       "      <th>rating</th>\n",
       "      <th>timestamp</th>\n",
       "    </tr>\n",
       "  </thead>\n",
       "  <tbody>\n",
       "    <tr>\n",
       "      <th>0</th>\n",
       "      <td>1</td>\n",
       "      <td>1</td>\n",
       "      <td>4.0</td>\n",
       "      <td>964982703</td>\n",
       "    </tr>\n",
       "    <tr>\n",
       "      <th>1</th>\n",
       "      <td>1</td>\n",
       "      <td>3</td>\n",
       "      <td>4.0</td>\n",
       "      <td>964981247</td>\n",
       "    </tr>\n",
       "    <tr>\n",
       "      <th>2</th>\n",
       "      <td>1</td>\n",
       "      <td>6</td>\n",
       "      <td>4.0</td>\n",
       "      <td>964982224</td>\n",
       "    </tr>\n",
       "    <tr>\n",
       "      <th>3</th>\n",
       "      <td>1</td>\n",
       "      <td>47</td>\n",
       "      <td>5.0</td>\n",
       "      <td>964983815</td>\n",
       "    </tr>\n",
       "    <tr>\n",
       "      <th>4</th>\n",
       "      <td>1</td>\n",
       "      <td>50</td>\n",
       "      <td>5.0</td>\n",
       "      <td>964982931</td>\n",
       "    </tr>\n",
       "  </tbody>\n",
       "</table>\n",
       "</div>"
      ],
      "text/plain": [
       "   userId  movieId  rating  timestamp\n",
       "0       1        1     4.0  964982703\n",
       "1       1        3     4.0  964981247\n",
       "2       1        6     4.0  964982224\n",
       "3       1       47     5.0  964983815\n",
       "4       1       50     5.0  964982931"
      ]
     },
     "execution_count": 3,
     "metadata": {},
     "output_type": "execute_result"
    }
   ],
   "source": [
    "df = pd.read_csv('ratings.csv')\n",
    "df.head()"
   ]
  },
  {
   "cell_type": "markdown",
   "metadata": {
    "colab_type": "text",
    "id": "GvUhDQIgLOEY"
   },
   "source": [
    "## 2.2 Dropping timestamp\n",
    "\n",
    "We won't be using the timestamp when user gave the particular rating. So we will drop that column."
   ]
  },
  {
   "cell_type": "code",
   "execution_count": 4,
   "metadata": {
    "colab": {},
    "colab_type": "code",
    "id": "TXvWh3duLjiP"
   },
   "outputs": [
    {
     "data": {
      "text/html": [
       "<div>\n",
       "<style scoped>\n",
       "    .dataframe tbody tr th:only-of-type {\n",
       "        vertical-align: middle;\n",
       "    }\n",
       "\n",
       "    .dataframe tbody tr th {\n",
       "        vertical-align: top;\n",
       "    }\n",
       "\n",
       "    .dataframe thead th {\n",
       "        text-align: right;\n",
       "    }\n",
       "</style>\n",
       "<table border=\"1\" class=\"dataframe\">\n",
       "  <thead>\n",
       "    <tr style=\"text-align: right;\">\n",
       "      <th></th>\n",
       "      <th>userId</th>\n",
       "      <th>movieId</th>\n",
       "      <th>rating</th>\n",
       "    </tr>\n",
       "  </thead>\n",
       "  <tbody>\n",
       "    <tr>\n",
       "      <th>0</th>\n",
       "      <td>1</td>\n",
       "      <td>1</td>\n",
       "      <td>4.0</td>\n",
       "    </tr>\n",
       "    <tr>\n",
       "      <th>1</th>\n",
       "      <td>1</td>\n",
       "      <td>3</td>\n",
       "      <td>4.0</td>\n",
       "    </tr>\n",
       "    <tr>\n",
       "      <th>2</th>\n",
       "      <td>1</td>\n",
       "      <td>6</td>\n",
       "      <td>4.0</td>\n",
       "    </tr>\n",
       "    <tr>\n",
       "      <th>3</th>\n",
       "      <td>1</td>\n",
       "      <td>47</td>\n",
       "      <td>5.0</td>\n",
       "    </tr>\n",
       "    <tr>\n",
       "      <th>4</th>\n",
       "      <td>1</td>\n",
       "      <td>50</td>\n",
       "      <td>5.0</td>\n",
       "    </tr>\n",
       "  </tbody>\n",
       "</table>\n",
       "</div>"
      ],
      "text/plain": [
       "   userId  movieId  rating\n",
       "0       1        1     4.0\n",
       "1       1        3     4.0\n",
       "2       1        6     4.0\n",
       "3       1       47     5.0\n",
       "4       1       50     5.0"
      ]
     },
     "execution_count": 4,
     "metadata": {},
     "output_type": "execute_result"
    }
   ],
   "source": [
    "df.drop('timestamp', axis=1, inplace=True)\n",
    "df.head()"
   ]
  },
  {
   "cell_type": "markdown",
   "metadata": {
    "colab_type": "text",
    "id": "OPEBn0gAK-5m"
   },
   "source": [
    "## 2.3 Check for Missing Data\n",
    "\n",
    "It's a good practice to check if the data has any missing values. In real world data, this is quite common and must be taken care of before any data pre-processing or model training."
   ]
  },
  {
   "cell_type": "code",
   "execution_count": 5,
   "metadata": {
    "colab": {},
    "colab_type": "code",
    "id": "BfBqk7KkLFV6"
   },
   "outputs": [
    {
     "data": {
      "text/plain": [
       "userId     0\n",
       "movieId    0\n",
       "rating     0\n",
       "dtype: int64"
      ]
     },
     "execution_count": 5,
     "metadata": {},
     "output_type": "execute_result"
    }
   ],
   "source": [
    "df.isna().sum()"
   ]
  },
  {
   "cell_type": "markdown",
   "metadata": {
    "colab_type": "text",
    "id": "FQYVA-J5MCUG"
   },
   "source": [
    "# Task 3: EDA (Exploratory data analysis)\n",
    "\n",
    "In statistics, exploratory data analysis is an approach to analyzing data sets to summarize their main characteristics."
   ]
  },
  {
   "cell_type": "markdown",
   "metadata": {
    "colab_type": "text",
    "id": "XJ0CD6ZiOpRI"
   },
   "source": [
    "## 3.1 Number of movies/users"
   ]
  },
  {
   "cell_type": "code",
   "execution_count": 6,
   "metadata": {
    "colab": {},
    "colab_type": "code",
    "id": "vnEIeAO6Psj2"
   },
   "outputs": [
    {
     "name": "stdout",
     "output_type": "stream",
     "text": [
      "Number of unique movies: 9724\n",
      "Number of unique users: 610\n"
     ]
    }
   ],
   "source": [
    "n_movies = df['movieId'].nunique()\n",
    "n_users = df['userId'].nunique()\n",
    "print(f'Number of unique movies: {n_movies}')\n",
    "print(f'Number of unique users: {n_users}')"
   ]
  },
  {
   "cell_type": "markdown",
   "metadata": {
    "colab_type": "text",
    "id": "dclqP0iXOo_F"
   },
   "source": [
    "## 3.2 Sparsity of our data\n",
    "\n",
    "Sparsity (%) = `(No of missing values/ (Total Values))X100`"
   ]
  },
  {
   "cell_type": "code",
   "execution_count": 7,
   "metadata": {
    "colab": {},
    "colab_type": "code",
    "id": "xPYF0zlfREMK"
   },
   "outputs": [
    {
     "name": "stdout",
     "output_type": "stream",
     "text": [
      "Sparsity: 98.30003169443864\n"
     ]
    }
   ],
   "source": [
    "available_ratings = df['rating'].count()\n",
    "total_ratings = n_movies*n_users\n",
    "missing_ratings = total_ratings - available_ratings\n",
    "sparsity = (missing_ratings/total_ratings) * 100\n",
    "print(f'Sparsity: {sparsity}')"
   ]
  },
  {
   "cell_type": "markdown",
   "metadata": {
    "colab_type": "text",
    "id": "kcYDLtG5Ok_p"
   },
   "source": [
    "## 3.3 Ratings Distribution"
   ]
  },
  {
   "cell_type": "code",
   "execution_count": 8,
   "metadata": {
    "colab": {},
    "colab_type": "code",
    "id": "ZO7Mv-jdL4_z"
   },
   "outputs": [
    {
     "name": "stderr",
     "output_type": "stream",
     "text": [
      "Matplotlib is building the font cache; this may take a moment.\n"
     ]
    },
    {
     "data": {
      "text/plain": [
       "<AxesSubplot:>"
      ]
     },
     "execution_count": 8,
     "metadata": {},
     "output_type": "execute_result"
    },
    {
     "data": {
      "image/png": "[encoded data removed]",
      "text/plain": [
       "<Figure size 432x288 with 1 Axes>"
      ]
     },
     "metadata": {
      "needs_background": "light"
     },
     "output_type": "display_data"
    }
   ],
   "source": [
    "df['rating'].value_counts().plot(kind='bar')"
   ]
  },
  {
   "cell_type": "markdown",
   "metadata": {
    "colab_type": "text",
    "id": "xdLsIItxSd9K"
   },
   "source": [
    "# Task 4: Dimensionality Reduction\n",
    "\n",
    "To reduce the dimensionality of the dataset, we will filter out rarely rated movies and rarely rating users"
   ]
  },
  {
   "cell_type": "markdown",
   "metadata": {
    "colab_type": "text",
    "id": "i3jYt3m5TNVL"
   },
   "source": [
    "## 4.1 Filter movies with less than 3 ratings"
   ]
  },
  {
   "cell_type": "code",
   "execution_count": 9,
   "metadata": {
    "colab": {},
    "colab_type": "code",
    "id": "msZU9YSxSeUo"
   },
   "outputs": [],
   "source": [
    "filter_movies = df['movieId'].value_counts() > 3\n",
    "filter_movies = filter_movies[filter_movies].index.tolist()"
   ]
  },
  {
   "cell_type": "markdown",
   "metadata": {
    "colab_type": "text",
    "id": "IYaMxlXcTdGS"
   },
   "source": [
    "## 4.2 Filter users with less than 3 movies rated"
   ]
  },
  {
   "cell_type": "code",
   "execution_count": 10,
   "metadata": {
    "colab": {},
    "colab_type": "code",
    "id": "WPeNAggIS-Y_"
   },
   "outputs": [],
   "source": [
    "filter_users = df['userId'].value_counts() > 3\n",
    "filter_users = filter_users[filter_users].index.tolist()"
   ]
  },
  {
   "cell_type": "markdown",
   "metadata": {
    "colab_type": "text",
    "id": "c2LFIAGXT3ro"
   },
   "source": [
    "## 4.3 Remove rarely rated movies and rarely rating users"
   ]
  },
  {
   "cell_type": "code",
   "execution_count": 11,
   "metadata": {
    "colab": {},
    "colab_type": "code",
    "id": "tTUG4ao6S_x7"
   },
   "outputs": [
    {
     "name": "stdout",
     "output_type": "stream",
     "text": [
      "Original shape: (100836, 3)\n",
      "New shape: (92394, 3)\n"
     ]
    }
   ],
   "source": [
    "print(f'Original shape: {df.shape}')\n",
    "df = df[(df['movieId'].isin(filter_movies)) & (df['userId'].isin(filter_users))]\n",
    "print(f'New shape: {df.shape}')"
   ]
  },
  {
   "cell_type": "markdown",
   "metadata": {
    "colab_type": "text",
    "id": "TbviZWiPM3jQ"
   },
   "source": [
    "# Task 5: Create Training and Test Sets"
   ]
  },
  {
   "cell_type": "markdown",
   "metadata": {
    "colab_type": "text",
    "id": "TIK2L0VuhbgA"
   },
   "source": [
    "## 5.1 Columns used for training"
   ]
  },
  {
   "cell_type": "code",
   "execution_count": 12,
   "metadata": {
    "colab": {},
    "colab_type": "code",
    "id": "bXF4dmJKhF7q"
   },
   "outputs": [],
   "source": [
    "cols = ['userId', 'movieId', 'rating']"
   ]
  },
  {
   "cell_type": "markdown",
   "metadata": {
    "colab_type": "text",
    "id": "J8rylnJmUjYk"
   },
   "source": [
    "## 5.2 Create surprise dataset"
   ]
  },
  {
   "cell_type": "code",
   "execution_count": 13,
   "metadata": {
    "colab": {},
    "colab_type": "code",
    "id": "4UOTMUssM6Tw"
   },
   "outputs": [],
   "source": [
    "reader = Reader(rating_scale = (0.5, 5))\n",
    "data = Dataset.load_from_df(df[cols], reader)"
   ]
  },
  {
   "cell_type": "markdown",
   "metadata": {
    "colab_type": "text",
    "id": "8lM--CdvguDz"
   },
   "source": [
    "## 5.3 Create Train-set and Prediction-set"
   ]
  },
  {
   "cell_type": "code",
   "execution_count": 14,
   "metadata": {
    "colab": {},
    "colab_type": "code",
    "id": "heITVvtvU1FD"
   },
   "outputs": [],
   "source": [
    "trainset = data.build_full_trainset()\n",
    "antiset = trainset.build_anti_testset()"
   ]
  },
  {
   "cell_type": "markdown",
   "metadata": {
    "colab_type": "text",
    "id": "AYfhHDReuO5h"
   },
   "source": [
    "# Task 6: Creating and training the model"
   ]
  },
  {
   "cell_type": "markdown",
   "metadata": {
    "colab_type": "text",
    "id": "R4e28tFHubv9"
   },
   "source": [
    "## 6.1 Creating the model\n",
    "\n",
    "**SVD (Singular Value Decomposition)**\n",
    "\n",
    "Interaction Matrix = A X B X C"
   ]
  },
  {
   "cell_type": "code",
   "execution_count": 15,
   "metadata": {
    "colab": {},
    "colab_type": "code",
    "id": "Ft4rS3L-hqeS"
   },
   "outputs": [],
   "source": [
    "algo = SVD(n_epochs =25, verbose = True)"
   ]
  },
  {
   "cell_type": "markdown",
   "metadata": {
    "colab_type": "text",
    "id": "h_16sRpXwahF"
   },
   "source": [
    "## 6.2 Training the model\n",
    "\n",
    "**Mean Absolute Error (MAE)**: MAE measures the average magnitude of the errors in a set of predictions, without considering their direction. \n",
    "\n",
    "**Root mean squared error (RMSE)**:  RMSE is the square root of the average of squared differences between prediction and actual observation."
   ]
  },
  {
   "cell_type": "code",
   "execution_count": 16,
   "metadata": {
    "colab": {},
    "colab_type": "code",
    "id": "nh-E5DS5wYe_"
   },
   "outputs": [
    {
     "name": "stdout",
     "output_type": "stream",
     "text": [
      "Processing epoch 0\n",
      "Processing epoch 1\n",
      "Processing epoch 2\n",
      "Processing epoch 3\n",
      "Processing epoch 4\n",
      "Processing epoch 5\n",
      "Processing epoch 6\n",
      "Processing epoch 7\n",
      "Processing epoch 8\n",
      "Processing epoch 9\n",
      "Processing epoch 10\n",
      "Processing epoch 11\n",
      "Processing epoch 12\n",
      "Processing epoch 13\n",
      "Processing epoch 14\n",
      "Processing epoch 15\n",
      "Processing epoch 16\n",
      "Processing epoch 17\n",
      "Processing epoch 18\n",
      "Processing epoch 19\n",
      "Processing epoch 20\n",
      "Processing epoch 21\n",
      "Processing epoch 22\n",
      "Processing epoch 23\n",
      "Processing epoch 24\n",
      "Processing epoch 0\n",
      "Processing epoch 1\n",
      "Processing epoch 2\n",
      "Processing epoch 3\n",
      "Processing epoch 4\n",
      "Processing epoch 5\n",
      "Processing epoch 6\n",
      "Processing epoch 7\n",
      "Processing epoch 8\n",
      "Processing epoch 9\n",
      "Processing epoch 10\n",
      "Processing epoch 11\n",
      "Processing epoch 12\n",
      "Processing epoch 13\n",
      "Processing epoch 14\n",
      "Processing epoch 15\n",
      "Processing epoch 16\n",
      "Processing epoch 17\n",
      "Processing epoch 18\n",
      "Processing epoch 19\n",
      "Processing epoch 20\n",
      "Processing epoch 21\n",
      "Processing epoch 22\n",
      "Processing epoch 23\n",
      "Processing epoch 24\n",
      "Processing epoch 0\n",
      "Processing epoch 1\n",
      "Processing epoch 2\n",
      "Processing epoch 3\n",
      "Processing epoch 4\n",
      "Processing epoch 5\n",
      "Processing epoch 6\n",
      "Processing epoch 7\n",
      "Processing epoch 8\n",
      "Processing epoch 9\n",
      "Processing epoch 10\n",
      "Processing epoch 11\n",
      "Processing epoch 12\n",
      "Processing epoch 13\n",
      "Processing epoch 14\n",
      "Processing epoch 15\n",
      "Processing epoch 16\n",
      "Processing epoch 17\n",
      "Processing epoch 18\n",
      "Processing epoch 19\n",
      "Processing epoch 20\n",
      "Processing epoch 21\n",
      "Processing epoch 22\n",
      "Processing epoch 23\n",
      "Processing epoch 24\n",
      "Processing epoch 0\n",
      "Processing epoch 1\n",
      "Processing epoch 2\n",
      "Processing epoch 3\n",
      "Processing epoch 4\n",
      "Processing epoch 5\n",
      "Processing epoch 6\n",
      "Processing epoch 7\n",
      "Processing epoch 8\n",
      "Processing epoch 9\n",
      "Processing epoch 10\n",
      "Processing epoch 11\n",
      "Processing epoch 12\n",
      "Processing epoch 13\n",
      "Processing epoch 14\n",
      "Processing epoch 15\n",
      "Processing epoch 16\n",
      "Processing epoch 17\n",
      "Processing epoch 18\n",
      "Processing epoch 19\n",
      "Processing epoch 20\n",
      "Processing epoch 21\n",
      "Processing epoch 22\n",
      "Processing epoch 23\n",
      "Processing epoch 24\n",
      "Processing epoch 0\n",
      "Processing epoch 1\n",
      "Processing epoch 2\n",
      "Processing epoch 3\n",
      "Processing epoch 4\n",
      "Processing epoch 5\n",
      "Processing epoch 6\n",
      "Processing epoch 7\n",
      "Processing epoch 8\n",
      "Processing epoch 9\n",
      "Processing epoch 10\n",
      "Processing epoch 11\n",
      "Processing epoch 12\n",
      "Processing epoch 13\n",
      "Processing epoch 14\n",
      "Processing epoch 15\n",
      "Processing epoch 16\n",
      "Processing epoch 17\n",
      "Processing epoch 18\n",
      "Processing epoch 19\n",
      "Processing epoch 20\n",
      "Processing epoch 21\n",
      "Processing epoch 22\n",
      "Processing epoch 23\n",
      "Processing epoch 24\n",
      "Evaluating RMSE, MAE of algorithm SVD on 5 split(s).\n",
      "\n",
      "                  Fold 1  Fold 2  Fold 3  Fold 4  Fold 5  Mean    Std     \n",
      "RMSE (testset)    0.8614  0.8592  0.8622  0.8531  0.8680  0.8608  0.0048  \n",
      "MAE (testset)     0.6602  0.6606  0.6607  0.6541  0.6651  0.6601  0.0035  \n",
      "Fit time          5.77    5.52    5.71    5.81    5.27    5.61    0.20    \n",
      "Test time         0.32    0.12    0.29    0.12    0.23    0.22    0.08    \n",
      ">> Training Done\n"
     ]
    }
   ],
   "source": [
    "cross_validate(algo, data, measures = ['RMSE', 'MAE'], cv=5, verbose= True)\n",
    "print('>> Training Done')"
   ]
  },
  {
   "cell_type": "markdown",
   "metadata": {
    "colab_type": "text",
    "id": "zTnqbNt_xkKS"
   },
   "source": [
    "# Task 7: Predictions"
   ]
  },
  {
   "cell_type": "markdown",
   "metadata": {
    "colab_type": "text",
    "id": "ma3oQr1Ax_Hg"
   },
   "source": [
    "## 7.1 Predict ratings for all pairs (user, items) that are NOT in the training set."
   ]
  },
  {
   "cell_type": "code",
   "execution_count": 17,
   "metadata": {
    "colab": {},
    "colab_type": "code",
    "id": "_K3EmIs3wxhW"
   },
   "outputs": [],
   "source": [
    "predictions = algo.test(antiset)"
   ]
  },
  {
   "cell_type": "code",
   "execution_count": 18,
   "metadata": {
    "colab": {},
    "colab_type": "code",
    "id": "RkqiEwM9z4Jf"
   },
   "outputs": [
    {
     "data": {
      "text/plain": [
       "Prediction(uid=1, iid=318, r_ui=3.529119856267723, est=5, details={'was_impossible': False})"
      ]
     },
     "execution_count": 18,
     "metadata": {},
     "output_type": "execute_result"
    }
   ],
   "source": [
    "predictions[0]"
   ]
  },
  {
   "cell_type": "markdown",
   "metadata": {
    "colab_type": "text",
    "id": "lRmzGn63ze8b"
   },
   "source": [
    "## 7.2 Recommending top 3 movies movies based on predictions"
   ]
  },
  {
   "cell_type": "code",
   "execution_count": 20,
   "metadata": {
    "colab": {},
    "colab_type": "code",
    "id": "q3Ugauv0119g"
   },
   "outputs": [
    {
     "name": "stdout",
     "output_type": "stream",
     "text": [
      "1 [318, 720, 247]\n",
      "2 [1204, 1262, 1266]\n",
      "3 [1266, 1196, 1912]\n",
      "4 [4993, 905, 3037]\n",
      "5 [750, 1237, 912]\n",
      "6 [2160, 1197, 1204]\n",
      "7 [1247, 27801, 1284]\n",
      "8 [1223, 1193, 1204]\n",
      "9 [2028, 3451, 541]\n",
      "10 [4973, 1222, 2160]\n",
      "11 [1197, 1196, 3275]\n",
      "12 [50, 260, 296]\n",
      "13 [318, 1223, 1204]\n",
      "14 [4993, 50, 2571]\n",
      "15 [1237, 1276, 1250]\n",
      "16 [951, 2160, 1204]\n",
      "17 [1199, 6711, 2324]\n",
      "18 [3030, 3451, 1237]\n",
      "19 [3030, 902, 110]\n",
      "20 [4034, 898, 924]\n",
      "21 [2580, 4848, 8784]\n",
      "22 [1230, 750, 1197]\n",
      "23 [110, 1197, 1204]\n",
      "24 [1089, 3451, 2959]\n",
      "25 [1196, 2959, 318]\n",
      "26 [318, 5690, 48516]\n",
      "27 [110, 2329, 318]\n",
      "28 [750, 1274, 4973]\n",
      "29 [3468, 3030, 58559]\n",
      "30 [1136, 1206, 2329]\n",
      "31 [142488, 905, 527]\n",
      "32 [58559, 110, 1252]\n",
      "33 [750, 1237, 1223]\n",
      "34 [3037, 215, 4993]\n",
      "35 [1225, 1223, 1204]\n",
      "36 [4993, 57669, 1204]\n",
      "37 [1198, 1204, 1262]\n",
      "38 [260, 4973, 2959]\n",
      "39 [3949, 58559, 79132]\n",
      "40 [904, 2997, 1204]\n",
      "41 [110, 922, 3681]\n",
      "42 [1732, 2324, 1204]\n",
      "43 [50, 333, 608]\n",
      "44 [1196, 593, 4993]\n",
      "45 [1206, 1237, 922]\n",
      "46 [1204, 1197, 5690]\n",
      "47 [750, 1262, 1204]\n",
      "48 [318, 858, 1221]\n",
      "49 [1204, 4973, 296]\n",
      "50 [1245, 904, 3030]\n",
      "51 [110, 356, 441]\n",
      "52 [908, 1266, 1237]\n",
      "53 [1, 6, 47]\n",
      "54 [2959, 750, 922]\n",
      "55 [1210, 260, 2324]\n",
      "56 [2571, 260, 2160]\n",
      "57 [4993, 3037, 1089]\n",
      "58 [1136, 1197, 1237]\n",
      "59 [1136, 914, 3435]\n",
      "60 [2959, 2160, 3451]\n",
      "61 [1204, 2160, 1221]\n",
      "62 [50, 1374, 3030]\n",
      "63 [142488, 2324, 3030]\n",
      "64 [541, 750, 246]\n",
      "65 [1237, 1258, 1235]\n",
      "66 [475, 2160, 3030]\n",
      "67 [1237, 750, 1204]\n",
      "68 [1262, 1204, 2360]\n",
      "69 [750, 2160, 1089]\n",
      "70 [2019, 750, 1258]\n",
      "71 [1204, 177593, 2160]\n",
      "72 [1237, 3451, 3037]\n",
      "73 [2959, 1248, 750]\n",
      "74 [1136, 1104, 1250]\n",
      "75 [108932, 318, 2959]\n",
      "76 [2324, 1200, 50]\n",
      "77 [1237, 1204, 2160]\n",
      "78 [778, 1221, 3275]\n",
      "79 [142488, 1204, 318]\n",
      "80 [904, 750, 1223]\n",
      "81 [2959, 1223, 5952]\n",
      "82 [7361, 593, 1259]\n",
      "83 [3275, 3814, 2160]\n",
      "84 [2997, 44555, 1732]\n",
      "85 [3451, 1035, 1204]\n",
      "86 [1266, 92259, 1250]\n",
      "87 [750, 1237, 3451]\n",
      "88 [858, 1196, 912]\n",
      "89 [4993, 1275, 1204]\n",
      "90 [2324, 1223, 2959]\n",
      "91 [3468, 1247, 6350]\n",
      "92 [904, 50, 1250]\n",
      "93 [1196, 1197, 2997]\n",
      "94 [2571, 1258, 1237]\n",
      "95 [318, 910, 750]\n",
      "96 [904, 3275, 3451]\n",
      "97 [1089, 2959, 48516]\n",
      "98 [3468, 2329, 1225]\n",
      "99 [110, 356, 3275]\n",
      "100 [318, 1237, 2580]\n",
      "101 [4993, 318, 750]\n",
      "102 [904, 910, 912]\n",
      "103 [177593, 57669, 3030]\n",
      "104 [142488, 953, 912]\n",
      "105 [2160, 1237, 1223]\n",
      "106 [1223, 1204, 3468]\n",
      "107 [1223, 3451, 91529]\n",
      "108 [1223, 527, 1237]\n",
      "109 [1237, 2324, 27773]\n",
      "110 [1204, 3468, 866]\n",
      "111 [741, 2997, 1262]\n",
      "112 [750, 6711, 1206]\n",
      "113 [541, 1250, 3275]\n",
      "114 [858, 750, 318]\n",
      "115 [904, 3468, 527]\n",
      "116 [1262, 1266, 1213]\n",
      "117 [1089, 858, 7153]\n",
      "118 [318, 1089, 4973]\n",
      "119 [1237, 1204, 1258]\n",
      "120 [1196, 318, 3037]\n",
      "121 [1237, 142488, 5690]\n",
      "122 [527, 1198, 1258]\n",
      "123 [68954, 50, 1237]\n",
      "124 [3468, 3451, 4993]\n",
      "125 [5690, 1237, 1223]\n",
      "126 [92259, 1237, 58559]\n",
      "127 [318, 1242, 750]\n",
      "128 [318, 2160, 3451]\n",
      "129 [318, 3451, 1221]\n",
      "130 [1204, 1235, 1223]\n",
      "131 [750, 1204, 246]\n",
      "132 [475, 1237, 750]\n",
      "133 [3451, 1221, 1089]\n",
      "134 [318, 2959, 1213]\n",
      "135 [2160, 50, 750]\n",
      "136 [318, 1197, 5992]\n",
      "137 [914, 475, 1206]\n",
      "138 [3275, 750, 1266]\n",
      "139 [1136, 1276, 1089]\n",
      "140 [6350, 58559, 112552]\n",
      "141 [2324, 1237, 3451]\n",
      "142 [318, 1223, 1267]\n",
      "143 [110, 1258, 2160]\n",
      "144 [1237, 1204, 1136]\n",
      "145 [750, 1237, 1204]\n",
      "146 [750, 318, 3037]\n",
      "147 [1237, 4993, 1084]\n",
      "148 [296, 5690, 858]\n",
      "149 [3451, 246, 1]\n",
      "150 [1223, 3451, 44555]\n",
      "151 [1233, 904, 318]\n",
      "152 [3451, 1237, 1204]\n",
      "153 [115617, 1215, 32587]\n",
      "154 [1136, 1237, 1206]\n",
      "155 [2324, 4226, 2571]\n",
      "156 [8950, 3451, 741]\n",
      "157 [2324, 2571, 7361]\n",
      "158 [1237, 318, 246]\n",
      "159 [2160, 3468, 1276]\n",
      "160 [7438, 1732, 6874]\n",
      "161 [296, 1204, 110]\n",
      "162 [1089, 858, 57669]\n",
      "163 [1204, 1221, 912]\n",
      "164 [527, 750, 58559]\n",
      "165 [1204, 1223, 318]\n",
      "166 [3451, 1237, 1204]\n",
      "167 [4973, 2318, 2959]\n",
      "168 [318, 2571, 1266]\n",
      "169 [475, 1250, 1193]\n",
      "170 [246, 3451, 750]\n",
      "171 [50, 1213, 2959]\n",
      "172 [260, 1136, 1237]\n",
      "173 [318, 2160, 3147]\n",
      "174 [1246, 1198, 750]\n",
      "175 [318, 1266, 750]\n",
      "176 [1206, 3147, 356]\n",
      "177 [4878, 913, 1357]\n",
      "178 [1136, 858, 1221]\n",
      "179 [2028, 1136, 5992]\n",
      "180 [1237, 1704, 1223]\n",
      "181 [2160, 58559, 904]\n",
      "182 [2324, 1244, 3814]\n",
      "183 [1198, 527, 1223]\n",
      "184 [318, 50, 1213]\n",
      "185 [750, 50, 4973]\n",
      "186 [3468, 1267, 3451]\n",
      "187 [1104, 910, 177593]\n",
      "188 [318, 1267, 3275]\n",
      "189 [750, 1258, 3451]\n",
      "190 [750, 1198, 2160]\n",
      "191 [1204, 7361, 904]\n",
      "192 [1237, 2160, 1204]\n",
      "193 [1221, 1237, 904]\n",
      "194 [1237, 905, 904]\n",
      "195 [1262, 1204, 1198]\n",
      "196 [1237, 1223, 3451]\n",
      "197 [1210, 1197, 593]\n",
      "198 [858, 908, 1136]\n",
      "199 [4993, 920, 899]\n",
      "200 [1411, 1104, 1235]\n",
      "201 [1136, 1208, 318]\n",
      "202 [3451, 2160, 3275]\n",
      "203 [1196, 260, 593]\n",
      "204 [1250, 1225, 750]\n",
      "205 [2959, 3451, 1204]\n",
      "206 [44555, 908, 866]\n",
      "207 [296, 2571, 1732]\n",
      "208 [318, 1221, 1237]\n",
      "209 [904, 3451, 142488]\n",
      "210 [3435, 1704, 2329]\n",
      "211 [5618, 750, 2324]\n",
      "212 [904, 1228, 2997]\n",
      "213 [2571, 318, 527]\n",
      "214 [1223, 1197, 1237]\n",
      "215 [1136, 541, 3468]\n",
      "216 [1210, 1276, 260]\n",
      "217 [1223, 3451, 1732]\n",
      "218 [177593, 2160, 1221]\n",
      "219 [110, 1252, 1200]\n",
      "220 [593, 3030, 3468]\n",
      "221 [3030, 58559, 866]\n",
      "222 [1197, 1204, 1245]\n",
      "223 [1266, 904, 50]\n",
      "224 [914, 1213, 922]\n",
      "225 [2019, 1228, 1225]\n",
      "226 [858, 750, 3030]\n",
      "227 [1237, 475, 3451]\n",
      "228 [2324, 750, 527]\n",
      "229 [27773, 912, 1221]\n",
      "230 [475, 1258, 1266]\n",
      "231 [750, 318, 177593]\n",
      "232 [1237, 1235, 2150]\n",
      "233 [1221, 1237, 750]\n",
      "234 [3468, 858, 72226]\n",
      "235 [904, 5690, 1221]\n",
      "236 [1204, 750, 2571]\n",
      "237 [750, 858, 1089]\n",
      "238 [1204, 720, 3451]\n",
      "239 [1223, 1204, 1258]\n",
      "240 [904, 1250, 750]\n",
      "241 [1237, 1223, 57669]\n",
      "242 [750, 2160, 858]\n",
      "243 [1197, 2329, 2580]\n",
      "244 [296, 5618, 750]\n",
      "245 [1237, 750, 1267]\n",
      "246 [1237, 3451, 51255]\n",
      "247 [1204, 3037, 1266]\n",
      "248 [750, 1223, 1704]\n",
      "249 [1237, 1223, 27773]\n",
      "250 [1089, 2959, 858]\n",
      "251 [260, 858, 2160]\n",
      "252 [858, 3468, 899]\n",
      "253 [318, 3451, 5992]\n",
      "254 [3147, 2160, 1197]\n",
      "255 [356, 1266, 2571]\n",
      "256 [1237, 1262, 1208]\n",
      "257 [1204, 1997, 50]\n",
      "258 [1262, 1237, 1193]\n",
      "259 [1197, 541, 778]\n",
      "260 [1237, 1204, 1136]\n",
      "261 [908, 1225, 2324]\n",
      "262 [750, 1288, 3468]\n",
      "263 [1237, 2959, 1213]\n",
      "264 [1136, 3435, 1089]\n",
      "265 [904, 475, 1267]\n",
      "266 [51255, 1221, 6874]\n",
      "267 [318, 1204, 904]\n",
      "268 [1233, 1945, 750]\n",
      "269 [1237, 1213, 246]\n",
      "270 [904, 1104, 3451]\n",
      "271 [1204, 1136, 1198]\n",
      "272 [1204, 750, 1197]\n",
      "273 [318, 2959, 1204]\n",
      "274 [1246, 38061, 3451]\n",
      "275 [293, 5618, 922]\n",
      "276 [47, 296, 527]\n",
      "277 [750, 1193, 1237]\n",
      "278 [858, 2324, 3030]\n",
      "279 [1197, 4973, 1235]\n",
      "280 [750, 1204, 2580]\n",
      "281 [1204, 318, 1237]\n",
      "282 [3451, 1207, 168252]\n",
      "283 [1237, 2571, 475]\n",
      "284 [1262, 1266, 1252]\n",
      "285 [750, 1204, 1237]\n",
      "286 [318, 2160, 858]\n",
      "287 [296, 7438, 1221]\n",
      "288 [745, 1237, 3468]\n",
      "289 [177593, 593, 1237]\n",
      "290 [720, 142488, 1035]\n",
      "291 [2571, 1237, 750]\n",
      "292 [3451, 928, 150]\n",
      "293 [1237, 2959, 356]\n",
      "294 [110, 2324, 3275]\n",
      "295 [527, 1204, 1235]\n",
      "296 [1250, 1204, 4226]\n",
      "297 [1250, 55820, 7361]\n",
      "298 [8874, 745, 3030]\n",
      "299 [58559, 1136, 318]\n",
      "300 [1235, 1237, 1104]\n",
      "301 [1136, 750, 7438]\n",
      "302 [2959, 3451, 318]\n",
      "303 [527, 858, 318]\n",
      "304 [1237, 1281, 1267]\n",
      "305 [110, 62, 2160]\n",
      "306 [908, 1089, 593]\n",
      "307 [63082, 293, 720]\n",
      "308 [2391, 1237, 1704]\n",
      "309 [1200, 3275, 3037]\n",
      "310 [2571, 5690, 3275]\n",
      "311 [1204, 110, 1237]\n",
      "312 [2858, 1197, 48516]\n",
      "313 [8784, 7153, 2324]\n",
      "314 [541, 1276, 1206]\n",
      "315 [1196, 2160, 922]\n",
      "316 [318, 593, 858]\n",
      "317 [1209, 1237, 1210]\n",
      "318 [1237, 1204, 3451]\n",
      "319 [1223, 1262, 750]\n",
      "320 [2959, 720, 318]\n",
      "321 [750, 1204, 1237]\n",
      "322 [1198, 48516, 1223]\n",
      "323 [1204, 5690, 1223]\n",
      "324 [1204, 48516, 57669]\n",
      "325 [1250, 1221, 1276]\n",
      "326 [2580, 1237, 933]\n",
      "327 [3037, 3435, 2580]\n",
      "328 [3083, 4993, 1223]\n",
      "329 [1204, 2580, 2959]\n",
      "330 [5618, 527, 1235]\n",
      "331 [1221, 260, 1204]\n",
      "332 [177593, 1136, 1223]\n",
      "333 [318, 1237, 3037]\n",
      "334 [79132, 1204, 1223]\n",
      "335 [1204, 1089, 750]\n",
      "336 [1204, 3451, 1237]\n",
      "337 [527, 593, 1089]\n",
      "338 [356, 57669, 2160]\n",
      "339 [110, 1197, 1228]\n",
      "340 [1136, 1233, 1223]\n",
      "341 [1237, 318, 5690]\n",
      "342 [260, 1223, 1237]\n",
      "343 [1237, 475, 7361]\n",
      "344 [750, 1237, 1197]\n",
      "345 [318, 1237, 1228]\n",
      "346 [1204, 741, 1136]\n",
      "347 [1204, 750, 1237]\n",
      "348 [1089, 1206, 3949]\n",
      "349 [904, 318, 866]\n",
      "350 [2571, 1204, 1237]\n",
      "351 [1250, 318, 1204]\n",
      "352 [750, 858, 903]\n",
      "353 [57669, 1267, 3468]\n",
      "354 [4226, 58559, 3451]\n",
      "355 [4973, 92259, 50]\n",
      "356 [3275, 177593, 106642]\n",
      "357 [1237, 750, 1204]\n",
      "358 [2160, 1204, 904]\n",
      "359 [318, 356, 1207]\n",
      "360 [1198, 3451, 318]\n",
      "361 [364, 912, 1204]\n",
      "362 [750, 6016, 7361]\n",
      "363 [1237, 1223, 1204]\n",
      "364 [1197, 2324, 1237]\n",
      "365 [1237, 1204, 2398]\n",
      "366 [260, 1204, 318]\n",
      "367 [2580, 1997, 3147]\n",
      "368 [318, 750, 3030]\n",
      "369 [527, 48516, 1237]\n",
      "370 [27773, 1200, 79132]\n",
      "371 [296, 356, 527]\n",
      "372 [3037, 1223, 912]\n",
      "373 [2571, 1204, 4226]\n",
      "374 [750, 1237, 47]\n",
      "375 [296, 904, 142488]\n",
      "376 [1203, 1237, 608]\n",
      "377 [1242, 27773, 741]\n",
      "378 [356, 1204, 3468]\n",
      "379 [3451, 4878, 4973]\n",
      "380 [3468, 951, 741]\n",
      "381 [1219, 923, 1104]\n",
      "382 [1223, 1221, 904]\n",
      "383 [318, 1089, 904]\n",
      "384 [142488, 1198, 3451]\n",
      "385 [2160, 866, 3275]\n",
      "386 [1237, 3030, 750]\n",
      "387 [57669, 475, 177593]\n",
      "388 [933, 57669, 2324]\n",
      "389 [1136, 1732, 318]\n",
      "390 [1237, 720, 1210]\n",
      "391 [1203, 2761, 431]\n",
      "392 [177593, 1262, 1136]\n",
      "393 [1237, 1204, 93840]\n",
      "394 [750, 1221, 2959]\n",
      "395 [58559, 741, 8874]\n",
      "396 [2324, 1223, 1204]\n",
      "397 [1237, 1223, 1221]\n",
      "398 [318, 3147, 92259]\n",
      "399 [1237, 1276, 54997]\n",
      "400 [1266, 2160, 1237]\n",
      "401 [1210, 1209, 1237]\n",
      "402 [608, 3037, 1089]\n",
      "403 [318, 260, 1237]\n",
      "404 [3451, 1237, 1204]\n",
      "405 [3451, 1228, 1250]\n",
      "406 [1237, 1204, 1178]\n",
      "407 [318, 904, 3451]\n",
      "408 [2160, 866, 3451]\n",
      "409 [2160, 1198, 1206]\n",
      "410 [608, 2160, 1197]\n",
      "411 [3147, 908, 4011]\n",
      "412 [4973, 1225, 260]\n",
      "413 [919, 2580, 2997]\n",
      "414 [3030, 1219, 1203]\n",
      "415 [527, 1250, 1237]\n",
      "416 [2324, 898, 1204]\n",
      "417 [1237, 2324, 1235]\n",
      "418 [2324, 1228, 260]\n",
      "419 [91529, 2396, 57669]\n",
      "420 [260, 1262, 1204]\n",
      "421 [4973, 2571, 1204]\n",
      "422 [50, 1276, 1221]\n",
      "423 [1204, 750, 1197]\n",
      "424 [1223, 4011, 1204]\n",
      "425 [3451, 1237, 5690]\n",
      "426 [899, 908, 953]\n",
      "427 [2028, 2324, 1233]\n",
      "428 [50, 858, 1221]\n",
      "429 [260, 527, 1198]\n",
      "430 [904, 177593, 296]\n",
      "431 [1237, 2324, 1223]\n",
      "432 [1178, 750, 1104]\n",
      "433 [1136, 33166, 904]\n",
      "434 [1250, 1233, 1199]\n",
      "435 [1213, 1204, 1223]\n",
      "436 [50, 2959, 905]\n",
      "437 [1198, 908, 7361]\n",
      "438 [4973, 1247, 1204]\n",
      "439 [750, 1204, 3451]\n",
      "440 [750, 1221, 1223]\n",
      "441 [1204, 318, 750]\n",
      "442 [912, 110, 1252]\n",
      "443 [2160, 3275, 1089]\n",
      "444 [905, 1237, 4993]\n",
      "445 [1089, 1262, 2160]\n",
      "446 [318, 2959, 904]\n",
      "447 [541, 1237, 3451]\n",
      "448 [1732, 318, 1225]\n",
      "449 [1223, 1237, 1204]\n",
      "450 [1204, 318, 1249]\n",
      "451 [3451, 1237, 318]\n",
      "452 [50, 223, 333]\n",
      "453 [953, 99114, 2398]\n",
      "454 [1, 1237, 2959]\n",
      "455 [1210, 48516, 142488]\n",
      "456 [2571, 1237, 1219]\n",
      "457 [2571, 4993, 904]\n",
      "458 [3147, 3578, 1234]\n",
      "459 [1221, 1223, 2959]\n",
      "460 [475, 1204, 750]\n",
      "461 [1266, 3451, 246]\n",
      "462 [3681, 969, 1250]\n",
      "463 [2959, 1235, 3451]\n",
      "464 [1246, 2324, 109487]\n",
      "465 [3451, 898, 1250]\n",
      "466 [1704, 1223, 1237]\n",
      "467 [318, 1203, 7153]\n",
      "468 [2160, 750, 1252]\n",
      "469 [3996, 3030, 2064]\n",
      "470 [3275, 1237, 58559]\n",
      "471 [1262, 3468, 27773]\n",
      "472 [260, 1237, 110]\n",
      "473 [2571, 3451, 541]\n",
      "474 [175, 26131, 109487]\n",
      "475 [296, 1089, 2542]\n",
      "476 [1221, 750, 3451]\n",
      "477 [110, 5690, 50]\n",
      "478 [318, 2324, 858]\n",
      "479 [3451, 800, 91529]\n",
      "480 [904, 1204, 924]\n",
      "481 [1262, 904, 1223]\n",
      "482 [318, 1266, 5690]\n",
      "483 [46578, 1247, 923]\n",
      "484 [3451, 115713, 589]\n",
      "485 [904, 44555, 2160]\n",
      "486 [1221, 2160, 858]\n",
      "487 [1221, 1223, 2324]\n",
      "488 [1204, 3083, 1250]\n",
      "489 [1148, 1288, 1041]\n",
      "490 [866, 1193, 50]\n",
      "491 [1136, 908, 858]\n",
      "492 [750, 8874, 928]\n",
      "493 [1237, 318, 5690]\n",
      "494 [2324, 1237, 3949]\n",
      "495 [1196, 1197, 1291]\n",
      "496 [1250, 1200, 3451]\n",
      "497 [922, 1732, 1208]\n",
      "498 [177593, 527, 2160]\n",
      "499 [922, 1288, 1221]\n",
      "500 [3578, 1237, 1997]\n",
      "501 [1252, 1204, 1198]\n",
      "502 [5992, 260, 858]\n",
      "503 [50, 1237, 1035]\n",
      "504 [1204, 318, 750]\n",
      "505 [1250, 1204, 527]\n",
      "506 [50, 2571, 2160]\n",
      "507 [318, 2959, 1204]\n",
      "508 [1262, 260, 1136]\n",
      "509 [750, 111, 7361]\n",
      "510 [541, 3037, 27773]\n",
      "511 [50, 1237, 4226]\n",
      "512 [2959, 750, 3030]\n",
      "513 [858, 1262, 1221]\n",
      "514 [1223, 1204, 1208]\n",
      "515 [1196, 1197, 1198]\n",
      "516 [2160, 318, 1206]\n",
      "517 [733, 44555, 33166]\n",
      "518 [750, 593, 904]\n",
      "519 [1266, 5690, 1262]\n",
      "520 [1204, 1220, 81834]\n",
      "521 [1221, 904, 296]\n",
      "522 [3703, 3030, 924]\n",
      "523 [1089, 1213, 2571]\n",
      "524 [3451, 2160, 1262]\n",
      "525 [1204, 1089, 1200]\n",
      "526 [1221, 1237, 1262]\n",
      "527 [1089, 858, 1193]\n",
      "528 [2160, 899, 1204]\n",
      "529 [2160, 3030, 1266]\n",
      "530 [318, 1204, 1197]\n",
      "531 [858, 1213, 1237]\n",
      "532 [1237, 58559, 1223]\n",
      "533 [1221, 527, 1204]\n",
      "534 [318, 296, 904]\n",
      "535 [2959, 750, 904]\n",
      "536 [1237, 750, 1221]\n",
      "537 [1237, 1246, 1089]\n",
      "538 [110, 260, 527]\n",
      "539 [1204, 1148, 3030]\n",
      "540 [1204, 1225, 3030]\n",
      "541 [1198, 1237, 1204]\n",
      "542 [5992, 3451, 933]\n",
      "543 [50, 527, 590]\n",
      "544 [1089, 1198, 1250]\n",
      "545 [318, 750, 356]\n",
      "546 [1237, 1204, 3451]\n",
      "547 [50, 1197, 68954]\n",
      "548 [1204, 1266, 3451]\n",
      "549 [3703, 1252, 1237]\n",
      "550 [260, 50, 2329]\n",
      "551 [527, 44555, 3275]\n",
      "552 [50, 6874, 318]\n",
      "553 [3451, 1237, 750]\n",
      "554 [68157, 1204, 1237]\n",
      "555 [924, 1252, 4973]\n",
      "556 [1193, 1237, 1208]\n",
      "557 [3147, 3451, 912]\n",
      "558 [1250, 1104, 7153]\n",
      "559 [1204, 1266, 1237]\n",
      "560 [3030, 3451, 2324]\n",
      "561 [541, 1193, 858]\n",
      "562 [1204, 1089, 2324]\n",
      "563 [750, 608, 51255]\n",
      "564 [1204, 2160, 858]\n",
      "565 [951, 1223, 48516]\n",
      "566 [1196, 858, 4993]\n",
      "567 [318, 3681, 3703]\n",
      "568 [2959, 904, 1221]\n",
      "569 [1204, 527, 1237]\n",
      "570 [1204, 904, 3451]\n",
      "571 [296, 318, 1237]\n",
      "572 [50, 541, 930]\n",
      "573 [3275, 1279, 2160]\n",
      "574 [904, 1252, 2160]\n",
      "575 [527, 50, 1248]\n",
      "576 [2324, 27773, 2959]\n",
      "577 [1204, 1237, 1223]\n",
      "578 [750, 1221, 1237]\n",
      "579 [475, 1266, 1276]\n",
      "580 [1223, 2324, 1953]\n",
      "581 [3468, 3451, 1237]\n",
      "582 [750, 912, 3468]\n",
      "583 [318, 1237, 1221]\n",
      "584 [50, 2542, 3147]\n",
      "585 [475, 1237, 1276]\n",
      "586 [4011, 1281, 1204]\n",
      "587 [318, 1213, 1246]\n",
      "588 [1237, 904, 951]\n",
      "589 [1252, 750, 7361]\n",
      "590 [92259, 293, 899]\n",
      "591 [1237, 4993, 1198]\n",
      "592 [3147, 1213, 1207]\n",
      "593 [1213, 1136, 1203]\n",
      "594 [1278, 2502, 2580]\n",
      "595 [2324, 4144, 318]\n",
      "596 [246, 951, 3468]\n",
      "597 [296, 750, 177593]\n",
      "598 [1204, 1237, 1704]\n",
      "599 [1250, 1267, 1193]\n",
      "600 [106642, 1222, 1215]\n",
      "601 [750, 1089, 1237]\n",
      "602 [1221, 1237, 778]\n",
      "603 [4993, 1136, 7156]\n",
      "604 [1204, 1237, 3499]\n",
      "605 [3275, 1237, 1246]\n",
      "606 [608, 1223, 1237]\n",
      "607 [74458, 1104, 912]\n",
      "608 [1235, 1197, 6350]\n",
      "609 [1204, 750, 1237]\n",
      "610 [1219, 247, 2700]\n"
     ]
    }
   ],
   "source": [
    "from collections import defaultdict\n",
    "def get_top_n(predictions, n=3):\n",
    "    top_n = defaultdict(list)\n",
    "    for uid, iid, _, est, _ in predictions:\n",
    "        top_n[uid].append((iid, est))\n",
    "        \n",
    "    for uid, user_ratings in top_n.items():\n",
    "        user_ratings.sort(key = lambda x: x[1], reverse = True)\n",
    "        top_n[uid] = user_ratings[:n]\n",
    "        \n",
    "    return top_n\n",
    "\n",
    "top_n = get_top_n(predictions, n=3)\n",
    "\n",
    "for uid, user_ratings in top_n.items():\n",
    "    print(uid, [iid for (iid, rating) in user_ratings])"
   ]
  },
  {
   "cell_type": "code",
   "execution_count": null,
   "metadata": {},
   "outputs": [],
   "source": []
  }
 ],
 "metadata": {
  "colab": {
   "collapsed_sections": [],
   "name": "Movies Recommendation Engine - Coursera [Starter]",
   "provenance": [],
   "toc_visible": true
  },
  "kernelspec": {
   "display_name": "Python 3",
   "language": "python",
   "name": "python3"
  },
  "language_info": {
   "codemirror_mode": {
    "name": "ipython",
    "version": 3
   },
   "file_extension": ".py",
   "mimetype": "text/x-python",
   "name": "python",
   "nbconvert_exporter": "python",
   "pygments_lexer": "ipython3",
   "version": "3.6.9"
  }
 },
 "nbformat": 4,
 "nbformat_minor": 4
}
